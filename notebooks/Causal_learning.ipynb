{
 "cells": [
  {
   "cell_type": "markdown",
   "source": [
    "## Causal Learning notebook for Break-Cancer Diagnosis\n",
    "\n",
    "### Importing necessary packages, and libraries"
   ],
   "metadata": {}
  },
  {
   "cell_type": "code",
   "execution_count": 1,
   "source": [
    "import logging\n",
    "import logging.handlers\n",
    "import warnings\n",
    "warnings.filterwarnings('ignore')\n",
    "import statsmodels.api as sm\n",
    "from causalgraphicalmodels import CausalGraphicalModel\n",
    "\n",
    "import os\n",
    "import sys\n",
    "\n",
    "sys.path.append(os.path.abspath(os.path.join('../scripts')))\n",
    "from project_config import Config\n",
    "from FileHandler import FileHandler\n",
    "from log import logger\n",
    "from data_processor import data_processor\n",
    "from plot import Plot"
   ],
   "outputs": [],
   "metadata": {}
  },
  {
   "cell_type": "markdown",
   "source": [
    "## Creating Script Class Objects"
   ],
   "metadata": {}
  },
  {
   "cell_type": "code",
   "execution_count": 2,
   "source": [
    "file = FileHandler()\n",
    "log = logger('eda_logs')\n",
    "# plot = plot()\n",
    "file_config = Config()\n",
    "data_processor = data_processor()\n",
    "plot = Plot()"
   ],
   "outputs": [],
   "metadata": {}
  },
  {
   "cell_type": "markdown",
   "source": [
    "## Loading the Dataset"
   ],
   "metadata": {}
  },
  {
   "cell_type": "code",
   "execution_count": 3,
   "source": [
    "# print(Config.Data_path)\n",
    "df = file.csv_file_read(\"processed_data\")\n",
    "print(\"Dataset columns are: \", df.columns)\n",
    "df.info()"
   ],
   "outputs": [
    {
     "output_type": "stream",
     "name": "stdout",
     "text": [
      "Dataset columns are:  Index(['diagnosis', 'radius_mean', 'texture_mean', 'perimeter_mean',\n",
      "       'area_mean', 'smoothness_mean', 'compactness_mean', 'concavity_mean',\n",
      "       'concave points_mean', 'symmetry_mean', 'fractal_dimension_mean',\n",
      "       'radius_se', 'texture_se', 'perimeter_se', 'area_se', 'smoothness_se',\n",
      "       'compactness_se', 'concavity_se', 'concave points_se', 'symmetry_se',\n",
      "       'fractal_dimension_se', 'radius_worst', 'texture_worst',\n",
      "       'perimeter_worst', 'area_worst', 'smoothness_worst',\n",
      "       'compactness_worst', 'concavity_worst', 'concave points_worst',\n",
      "       'symmetry_worst', 'fractal_dimension_worst'],\n",
      "      dtype='object')\n",
      "<class 'pandas.core.frame.DataFrame'>\n",
      "RangeIndex: 569 entries, 0 to 568\n",
      "Data columns (total 31 columns):\n",
      " #   Column                   Non-Null Count  Dtype  \n",
      "---  ------                   --------------  -----  \n",
      " 0   diagnosis                569 non-null    object \n",
      " 1   radius_mean              569 non-null    float64\n",
      " 2   texture_mean             569 non-null    float64\n",
      " 3   perimeter_mean           569 non-null    float64\n",
      " 4   area_mean                569 non-null    float64\n",
      " 5   smoothness_mean          569 non-null    float64\n",
      " 6   compactness_mean         569 non-null    float64\n",
      " 7   concavity_mean           569 non-null    float64\n",
      " 8   concave points_mean      569 non-null    float64\n",
      " 9   symmetry_mean            569 non-null    float64\n",
      " 10  fractal_dimension_mean   569 non-null    float64\n",
      " 11  radius_se                569 non-null    float64\n",
      " 12  texture_se               569 non-null    float64\n",
      " 13  perimeter_se             569 non-null    float64\n",
      " 14  area_se                  569 non-null    float64\n",
      " 15  smoothness_se            569 non-null    float64\n",
      " 16  compactness_se           569 non-null    float64\n",
      " 17  concavity_se             569 non-null    float64\n",
      " 18  concave points_se        569 non-null    float64\n",
      " 19  symmetry_se              569 non-null    float64\n",
      " 20  fractal_dimension_se     569 non-null    float64\n",
      " 21  radius_worst             569 non-null    float64\n",
      " 22  texture_worst            569 non-null    float64\n",
      " 23  perimeter_worst          569 non-null    float64\n",
      " 24  area_worst               569 non-null    float64\n",
      " 25  smoothness_worst         569 non-null    float64\n",
      " 26  compactness_worst        569 non-null    float64\n",
      " 27  concavity_worst          569 non-null    float64\n",
      " 28  concave points_worst     569 non-null    float64\n",
      " 29  symmetry_worst           569 non-null    float64\n",
      " 30  fractal_dimension_worst  569 non-null    float64\n",
      "dtypes: float64(30), object(1)\n",
      "memory usage: 137.9+ KB\n"
     ]
    }
   ],
   "metadata": {}
  },
  {
   "cell_type": "markdown",
   "source": [
    "## Drawing the Causal graph"
   ],
   "metadata": {}
  },
  {
   "cell_type": "code",
   "execution_count": 6,
   "source": [
    "#area and perimeter functions of radius\n",
    "from causalgraphicalmodels import CausalGraphicalModel\n",
    "causal = CausalGraphicalModel(\n",
    "    nodes=['radius_mean','texture_mean','perimeter_mean','area_mean','smoothness_mean','compactness_mean','concavity_mean',\n",
    "           'concave points_mean','symmetry_mean','fractal_dimension_mean','diagnosis'],\n",
    "    edges=[\n",
    "        (\"radius_mean\", \"perimeter_mean\"), \n",
    "        (\"radius_mean\", \"area_mean\"),\n",
    "        (\"radius_mean\",\"smoothness_mean\"),\n",
    "        (\"area_mean\",\"compactness_mean\"),\n",
    "        (\"perimeter_mean\",\"compactness_mean\"),\n",
    "        (\"concave points_mean\",\"concavity_mean\"),\n",
    "        (\"smoothness_mean\",\"diagnosis\"),\n",
    "        (\"concave points_mean\",\"diagnosis\"),\n",
    "        (\"concavity_mean\",\"diagnosis\"),\n",
    "        (\"compactness_mean\",\"diagnosis\"),\n",
    "        (\"perimeter_mean\", \"diagnosis\"),\n",
    "        (\"area_mean\", \"diagnosis\"),\n",
    "        (\"symmetry_mean\", \"diagnosis\"),\n",
    "        (\"fractal_dimension_mean\", \"diagnosis\"),\n",
    "        (\"texture_mean\", \"diagnosis\")\n",
    "    ]\n",
    ")"
   ],
   "outputs": [],
   "metadata": {}
  },
  {
   "cell_type": "code",
   "execution_count": null,
   "source": [
    "causal.draw()"
   ],
   "outputs": [],
   "metadata": {}
  }
 ],
 "metadata": {
  "orig_nbformat": 4,
  "language_info": {
   "name": "python",
   "version": "3.8.8",
   "mimetype": "text/x-python",
   "codemirror_mode": {
    "name": "ipython",
    "version": 3
   },
   "pygments_lexer": "ipython3",
   "nbconvert_exporter": "python",
   "file_extension": ".py"
  },
  "kernelspec": {
   "name": "python3",
   "display_name": "Python 3.8.8 64-bit ('base': conda)"
  },
  "interpreter": {
   "hash": "fc5b00bee59e553d508db9922ccda4ed2426092ffdded382ff87e02c7f5799df"
  }
 },
 "nbformat": 4,
 "nbformat_minor": 2
}